{
 "cells": [
  {
   "cell_type": "code",
   "execution_count": 155,
   "id": "6cd2e772",
   "metadata": {},
   "outputs": [],
   "source": [
    "import pandas as pd\n",
    "import matplotlib.pyplot as plt\n",
    "import numpy as np"
   ]
  },
  {
   "cell_type": "code",
   "execution_count": 156,
   "id": "2cacd40b",
   "metadata": {},
   "outputs": [],
   "source": [
    "# import and read dataset\n",
    "\n",
    "df = pd.read_csv(\"score_updated.csv\")"
   ]
  },
  {
   "cell_type": "code",
   "execution_count": 157,
   "id": "d614a5ef",
   "metadata": {},
   "outputs": [
    {
     "data": {
      "text/html": [
       "<div>\n",
       "<style scoped>\n",
       "    .dataframe tbody tr th:only-of-type {\n",
       "        vertical-align: middle;\n",
       "    }\n",
       "\n",
       "    .dataframe tbody tr th {\n",
       "        vertical-align: top;\n",
       "    }\n",
       "\n",
       "    .dataframe thead th {\n",
       "        text-align: right;\n",
       "    }\n",
       "</style>\n",
       "<table border=\"1\" class=\"dataframe\">\n",
       "  <thead>\n",
       "    <tr style=\"text-align: right;\">\n",
       "      <th></th>\n",
       "      <th>Hours</th>\n",
       "      <th>Scores</th>\n",
       "    </tr>\n",
       "  </thead>\n",
       "  <tbody>\n",
       "    <tr>\n",
       "      <th>0</th>\n",
       "      <td>2.5</td>\n",
       "      <td>21</td>\n",
       "    </tr>\n",
       "    <tr>\n",
       "      <th>1</th>\n",
       "      <td>5.1</td>\n",
       "      <td>47</td>\n",
       "    </tr>\n",
       "    <tr>\n",
       "      <th>2</th>\n",
       "      <td>3.2</td>\n",
       "      <td>27</td>\n",
       "    </tr>\n",
       "    <tr>\n",
       "      <th>3</th>\n",
       "      <td>8.5</td>\n",
       "      <td>75</td>\n",
       "    </tr>\n",
       "    <tr>\n",
       "      <th>4</th>\n",
       "      <td>3.5</td>\n",
       "      <td>30</td>\n",
       "    </tr>\n",
       "  </tbody>\n",
       "</table>\n",
       "</div>"
      ],
      "text/plain": [
       "   Hours  Scores\n",
       "0    2.5      21\n",
       "1    5.1      47\n",
       "2    3.2      27\n",
       "3    8.5      75\n",
       "4    3.5      30"
      ]
     },
     "execution_count": 157,
     "metadata": {},
     "output_type": "execute_result"
    }
   ],
   "source": [
    "# Return first n rows of the Dataframe\n",
    "df.head(n=5)"
   ]
  },
  {
   "cell_type": "code",
   "execution_count": 158,
   "id": "5060c6ae",
   "metadata": {},
   "outputs": [
    {
     "data": {
      "text/plain": [
       "(96, 2)"
      ]
     },
     "execution_count": 158,
     "metadata": {},
     "output_type": "execute_result"
    }
   ],
   "source": [
    "# Get the dimensionality of the DataFrame\n",
    "\n",
    "df.shape"
   ]
  },
  {
   "cell_type": "code",
   "execution_count": 159,
   "id": "ed178cdb",
   "metadata": {},
   "outputs": [
    {
     "name": "stdout",
     "output_type": "stream",
     "text": [
      "<class 'pandas.core.frame.DataFrame'>\n",
      "RangeIndex: 96 entries, 0 to 95\n",
      "Data columns (total 2 columns):\n",
      " #   Column  Non-Null Count  Dtype  \n",
      "---  ------  --------------  -----  \n",
      " 0   Hours   96 non-null     float64\n",
      " 1   Scores  96 non-null     int64  \n",
      "dtypes: float64(1), int64(1)\n",
      "memory usage: 1.6 KB\n"
     ]
    }
   ],
   "source": [
    "# concise summary of dataframe\n",
    "\n",
    "df.info()"
   ]
  },
  {
   "cell_type": "code",
   "execution_count": 160,
   "id": "501aa7fe",
   "metadata": {},
   "outputs": [
    {
     "data": {
      "text/html": [
       "<div>\n",
       "<style scoped>\n",
       "    .dataframe tbody tr th:only-of-type {\n",
       "        vertical-align: middle;\n",
       "    }\n",
       "\n",
       "    .dataframe tbody tr th {\n",
       "        vertical-align: top;\n",
       "    }\n",
       "\n",
       "    .dataframe thead th {\n",
       "        text-align: right;\n",
       "    }\n",
       "</style>\n",
       "<table border=\"1\" class=\"dataframe\">\n",
       "  <thead>\n",
       "    <tr style=\"text-align: right;\">\n",
       "      <th></th>\n",
       "      <th>Hours</th>\n",
       "      <th>Scores</th>\n",
       "    </tr>\n",
       "  </thead>\n",
       "  <tbody>\n",
       "    <tr>\n",
       "      <th>count</th>\n",
       "      <td>96.000000</td>\n",
       "      <td>96.000000</td>\n",
       "    </tr>\n",
       "    <tr>\n",
       "      <th>mean</th>\n",
       "      <td>5.267708</td>\n",
       "      <td>54.020833</td>\n",
       "    </tr>\n",
       "    <tr>\n",
       "      <th>std</th>\n",
       "      <td>2.503030</td>\n",
       "      <td>25.017459</td>\n",
       "    </tr>\n",
       "    <tr>\n",
       "      <th>min</th>\n",
       "      <td>1.000000</td>\n",
       "      <td>12.000000</td>\n",
       "    </tr>\n",
       "    <tr>\n",
       "      <th>25%</th>\n",
       "      <td>3.075000</td>\n",
       "      <td>30.750000</td>\n",
       "    </tr>\n",
       "    <tr>\n",
       "      <th>50%</th>\n",
       "      <td>5.250000</td>\n",
       "      <td>54.500000</td>\n",
       "    </tr>\n",
       "    <tr>\n",
       "      <th>75%</th>\n",
       "      <td>7.325000</td>\n",
       "      <td>74.250000</td>\n",
       "    </tr>\n",
       "    <tr>\n",
       "      <th>max</th>\n",
       "      <td>9.800000</td>\n",
       "      <td>99.000000</td>\n",
       "    </tr>\n",
       "  </tbody>\n",
       "</table>\n",
       "</div>"
      ],
      "text/plain": [
       "           Hours     Scores\n",
       "count  96.000000  96.000000\n",
       "mean    5.267708  54.020833\n",
       "std     2.503030  25.017459\n",
       "min     1.000000  12.000000\n",
       "25%     3.075000  30.750000\n",
       "50%     5.250000  54.500000\n",
       "75%     7.325000  74.250000\n",
       "max     9.800000  99.000000"
      ]
     },
     "execution_count": 160,
     "metadata": {},
     "output_type": "execute_result"
    }
   ],
   "source": [
    "# generate descriptive statistics\n",
    "\n",
    "df.describe()"
   ]
  },
  {
   "cell_type": "code",
   "execution_count": 161,
   "id": "2f709ba2",
   "metadata": {},
   "outputs": [
    {
     "data": {
      "text/plain": [
       "Text(0, 0.5, 'Mark')"
      ]
     },
     "execution_count": 161,
     "metadata": {},
     "output_type": "execute_result"
    },
    {
     "data": {
      "image/png": "[encoded data removed]",
      "text/plain": [
       "<Figure size 640x480 with 1 Axes>"
      ]
     },
     "metadata": {},
     "output_type": "display_data"
    }
   ],
   "source": [
    "# plot the data\n",
    "\n",
    "x_values = np.array(df[\"Hours\"])\n",
    "y_values = np.array(df[\"Scores\"])\n",
    "\n",
    "plt.scatter(x=x_values, y=y_values)\n",
    "plt.title(\"Marks by Hours studied\")\n",
    "plt.xlabel(\"Hours studied\")\n",
    "plt.ylabel(\"Mark\")"
   ]
  },
  {
   "cell_type": "code",
   "execution_count": 162,
   "id": "73159dbf",
   "metadata": {},
   "outputs": [],
   "source": [
    "# fit the model\n",
    "\n",
    "from sklearn.linear_model import LinearRegression\n",
    "from sklearn.model_selection import train_test_split"
   ]
  },
  {
   "cell_type": "code",
   "execution_count": 163,
   "id": "af943acd",
   "metadata": {},
   "outputs": [],
   "source": [
    "# split the dataset into training set and test set\n",
    "\n",
    "X = df['Hours']\n",
    "y = df['Scores']\n",
    "\n",
    "X_train, X_test, y_train, y_test = train_test_split(X, y, test_size=0.4, random_state=42)"
   ]
  },
  {
   "cell_type": "code",
   "execution_count": 164,
   "id": "cb14240d",
   "metadata": {},
   "outputs": [
    {
     "data": {
      "text/plain": [
       "array([[3.9],\n",
       "       [5.5],\n",
       "       [5.8],\n",
       "       [5.8],\n",
       "       [7.4],\n",
       "       [5.6],\n",
       "       [4.2],\n",
       "       [7. ],\n",
       "       [3.3],\n",
       "       [7.8],\n",
       "       [8.5],\n",
       "       [1.9],\n",
       "       [5.3],\n",
       "       [8.3],\n",
       "       [1.2],\n",
       "       [9.2],\n",
       "       [3.4],\n",
       "       [7.1],\n",
       "       [4. ],\n",
       "       [8.4],\n",
       "       [8. ],\n",
       "       [2.4],\n",
       "       [3.7],\n",
       "       [2.8],\n",
       "       [8.2],\n",
       "       [8. ],\n",
       "       [1.4],\n",
       "       [9.3],\n",
       "       [6.1],\n",
       "       [9.7],\n",
       "       [9.4],\n",
       "       [5.2],\n",
       "       [1.3],\n",
       "       [6. ],\n",
       "       [1.7],\n",
       "       [6.2],\n",
       "       [9.8],\n",
       "       [6.4],\n",
       "       [2.1],\n",
       "       [7.2],\n",
       "       [6.3],\n",
       "       [4.7],\n",
       "       [5.1],\n",
       "       [6.6],\n",
       "       [4.8],\n",
       "       [3.2],\n",
       "       [6.9],\n",
       "       [2. ],\n",
       "       [2.9],\n",
       "       [6.8],\n",
       "       [1. ],\n",
       "       [2.7],\n",
       "       [7.6],\n",
       "       [6.5],\n",
       "       [1.1],\n",
       "       [4.4],\n",
       "       [7.9]])"
      ]
     },
     "execution_count": 164,
     "metadata": {},
     "output_type": "execute_result"
    }
   ],
   "source": [
    "# Reshape X_train\n",
    "X_train = np.array(X_train)\n",
    "X_train_reshaped = X_train.reshape(-1, 1)\n",
    "X_train_reshaped"
   ]
  },
  {
   "cell_type": "code",
   "execution_count": 165,
   "id": "16d95301",
   "metadata": {},
   "outputs": [
    {
     "data": {
      "text/plain": [
       "34    38\n",
       "7     60\n",
       "91    60\n",
       "27    63\n",
       "19    69\n",
       "78    57\n",
       "25    49\n",
       "89    73\n",
       "13    42\n",
       "24    86\n",
       "3     75\n",
       "17    24\n",
       "38    56\n",
       "8     81\n",
       "75    14\n",
       "6     88\n",
       "62    33\n",
       "36    73\n",
       "84    40\n",
       "56    84\n",
       "95    84\n",
       "54    26\n",
       "43    37\n",
       "50    29\n",
       "65    83\n",
       "46    79\n",
       "66    15\n",
       "61    94\n",
       "93    63\n",
       "76    96\n",
       "41    93\n",
       "58    53\n",
       "48    16\n",
       "83    61\n",
       "57    18\n",
       "32    68\n",
       "90    99\n",
       "59    64\n",
       "63    20\n",
       "81    72\n",
       "37    66\n",
       "29    50\n",
       "1     47\n",
       "52    72\n",
       "21    54\n",
       "2     27\n",
       "23    76\n",
       "87    18\n",
       "74    31\n",
       "86    67\n",
       "82    12\n",
       "20    30\n",
       "60    78\n",
       "71    65\n",
       "14    17\n",
       "92    44\n",
       "51    80\n",
       "Name: Scores, dtype: int64"
      ]
     },
     "execution_count": 165,
     "metadata": {},
     "output_type": "execute_result"
    }
   ],
   "source": [
    "y_train"
   ]
  },
  {
   "cell_type": "code",
   "execution_count": 166,
   "id": "c6792063",
   "metadata": {},
   "outputs": [],
   "source": [
    "lm = LinearRegression()"
   ]
  },
  {
   "cell_type": "code",
   "execution_count": 167,
   "id": "a4c16259",
   "metadata": {},
   "outputs": [
    {
     "data": {
      "text/plain": [
       "LinearRegression()"
      ]
     },
     "execution_count": 167,
     "metadata": {},
     "output_type": "execute_result"
    }
   ],
   "source": [
    "lm.fit(X_train_reshaped, y_train)"
   ]
  },
  {
   "cell_type": "code",
   "execution_count": 168,
   "id": "b331057d",
   "metadata": {},
   "outputs": [
    {
     "name": "stdout",
     "output_type": "stream",
     "text": [
      "Slope: 9.72528447949711\n",
      "Intercept: 2.8752122076384694\n"
     ]
    }
   ],
   "source": [
    "# Get model function slope and intercept\n",
    "\n",
    "slope = lm.coef_[0]\n",
    "intercept = lm.intercept_\n",
    "\n",
    "print(f\"Slope: {slope}\")\n",
    "print(f\"Intercept: {intercept}\")"
   ]
  },
  {
   "cell_type": "code",
   "execution_count": 169,
   "id": "859224fa",
   "metadata": {},
   "outputs": [
    {
     "name": "stdout",
     "output_type": "stream",
     "text": [
      "1.0 9.8\n"
     ]
    },
    {
     "data": {
      "text/plain": [
       "<matplotlib.legend.Legend at 0x1fc417e3340>"
      ]
     },
     "execution_count": 169,
     "metadata": {},
     "output_type": "execute_result"
    },
    {
     "data": {
      "image/png": "[encoded data removed]",
      "text/plain": [
       "<Figure size 640x480 with 1 Axes>"
      ]
     },
     "metadata": {},
     "output_type": "display_data"
    }
   ],
   "source": [
    "# Plot the model function and training set points\n",
    "\n",
    "min_x_value = X_train_reshaped.min()\n",
    "max_x_value = X_train_reshaped.max()\n",
    "\n",
    "print(min_x_value, max_x_value)\n",
    "\n",
    "# Create a sequence of numbers to plot our model line\n",
    "\n",
    "x_values = np.linspace(start=min_x_value, stop=max_x_value, num=100)\n",
    "y_values = slope * x_values + intercept # line equation\n",
    "\n",
    "plt.scatter(X_train_reshaped, y_train, color='blue', label='Data points (Training Set)')\n",
    "\n",
    "# Plot the line\n",
    "plt.plot(x_values, y_values, color='red', label='Regression Line', linewidth=3)\n",
    "\n",
    "plt.xlabel(\"Features\")\n",
    "plt.ylabel(\"Target\")\n",
    "plt.legend()"
   ]
  },
  {
   "cell_type": "code",
   "execution_count": 170,
   "id": "0a7c57de",
   "metadata": {},
   "outputs": [],
   "source": [
    "# Predictions\n",
    "\n",
    "X_test_reshaped = np.array(X_test).reshape(-1, 1) # reshape X_test\n",
    "\n",
    "y_pred = lm.predict(X_test_reshaped)"
   ]
  },
  {
   "cell_type": "code",
   "execution_count": 171,
   "id": "afcadafe",
   "metadata": {},
   "outputs": [
    {
     "data": {
      "text/plain": [
       "array([28.16095185, 50.52910616, 32.05106565, 38.85876478, 81.65001649,\n",
       "       86.51265873, 75.8148458 , 68.03461822, 27.18842341, 77.7599027 ,\n",
       "       55.3917484 , 18.43566737, 62.19944753, 36.91370789, 90.40277252,\n",
       "       95.26541476, 46.63899237, 39.83129323, 37.88623633, 51.50163461,\n",
       "       20.38072427, 96.23794321, 89.43024408, 69.00714667, 32.05106565,\n",
       "       29.1334803 , 45.66646392, 60.25439064, 42.74887857, 47.61152081,\n",
       "       25.24336651, 87.48518718, 44.69393547, 17.46313893, 73.86978891,\n",
       "       58.30933374, 24.27083806, 27.18842341, 33.02359409])"
      ]
     },
     "execution_count": 171,
     "metadata": {},
     "output_type": "execute_result"
    }
   ],
   "source": [
    "y_pred"
   ]
  },
  {
   "cell_type": "code",
   "execution_count": 172,
   "id": "402b689a",
   "metadata": {},
   "outputs": [
    {
     "data": {
      "text/plain": [
       "<matplotlib.legend.Legend at 0x1fc41842b80>"
      ]
     },
     "execution_count": 172,
     "metadata": {},
     "output_type": "execute_result"
    },
    {
     "data": {
      "image/png": "[encoded data removed]",
      "text/plain": [
       "<Figure size 640x480 with 1 Axes>"
      ]
     },
     "metadata": {},
     "output_type": "display_data"
    }
   ],
   "source": [
    "# get values for regression line\n",
    "\n",
    "y_values = slope * X_test + intercept\n",
    "\n",
    "plt.plot(X_test, y_values, color='red', label='Regression Line', linewidth=0.5)\n",
    "\n",
    "# Plot line, y_pred and y_test\n",
    "\n",
    "plt.scatter(X_test, y_pred, color='green', label='Predicted values')\n",
    "plt.scatter(X_test, y_test, color='b', label='Actual values')\n",
    "\n",
    "plt.xlabel(\"Feature\")\n",
    "plt.ylabel(\"Target\")\n",
    "plt.title(\"Predictions vs Actual Values\")\n",
    "plt.legend()"
   ]
  },
  {
   "cell_type": "code",
   "execution_count": 173,
   "id": "d194e95c",
   "metadata": {},
   "outputs": [
    {
     "data": {
      "text/plain": [
       "12.635247068338263"
      ]
     },
     "execution_count": 173,
     "metadata": {},
     "output_type": "execute_result"
    }
   ],
   "source": [
    "# Evaluate the model using mean squared error\n",
    "\n",
    "from sklearn.metrics import mean_squared_error\n",
    "\n",
    "mse = mean_squared_error(y_true=y_test, y_pred=y_pred)\n",
    "mse"
   ]
  },
  {
   "cell_type": "code",
   "execution_count": 178,
   "id": "2f7c4414",
   "metadata": {},
   "outputs": [
    {
     "name": "stdout",
     "output_type": "stream",
     "text": [
      "Test size: 0.2 --> MSE: 17.007444250866516\n",
      "Test size: 0.3 --> MSE: 14.603843075774636\n",
      "Test size: 0.4 --> MSE: 12.635247068338263\n",
      "Test size: 0.5 --> MSE: 13.35878848058569\n"
     ]
    }
   ],
   "source": [
    "# How does MSE metric change based on test_size parameter in train_test_split?\n",
    "\n",
    "test_size_values = [0.2, 0.3, 0.4, 0.5]\n",
    "\n",
    "for value in test_size_values:\n",
    "    X = df[['Hours']] # 2D array\n",
    "    y = df['Scores']\n",
    "\n",
    "    X_train, X_test, y_train, y_test = train_test_split(X, y, test_size=value, random_state=42)\n",
    "    \n",
    "    lm = LinearRegression()\n",
    "    lm.fit(X_train, y_train)\n",
    "    y_pred = lm.predict(X_test)\n",
    "    \n",
    "    mse = mean_squared_error(y_true=y_test, y_pred=y_pred)\n",
    "    \n",
    "    print(f\"Test size: {value} --> MSE: {mse}\")"
   ]
  },
  {
   "cell_type": "code",
   "execution_count": null,
   "id": "99380434",
   "metadata": {},
   "outputs": [],
   "source": []
  }
 ],
 "metadata": {
  "kernelspec": {
   "display_name": "Python 3 (ipykernel)",
   "language": "python",
   "name": "python3"
  },
  "language_info": {
   "codemirror_mode": {
    "name": "ipython",
    "version": 3
   },
   "file_extension": ".py",
   "mimetype": "text/x-python",
   "name": "python",
   "nbconvert_exporter": "python",
   "pygments_lexer": "ipython3",
   "version": "3.9.13"
  }
 },
 "nbformat": 4,
 "nbformat_minor": 5
}
